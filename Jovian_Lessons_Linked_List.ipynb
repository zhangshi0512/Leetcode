{
  "nbformat": 4,
  "nbformat_minor": 0,
  "metadata": {
    "colab": {
      "provenance": [],
      "authorship_tag": "ABX9TyNt7U2OJ337HTmSE4rLP03W",
      "include_colab_link": true
    },
    "kernelspec": {
      "name": "python3",
      "display_name": "Python 3"
    },
    "language_info": {
      "name": "python"
    }
  },
  "cells": [
    {
      "cell_type": "markdown",
      "metadata": {
        "id": "view-in-github",
        "colab_type": "text"
      },
      "source": [
        "<a href=\"https://colab.research.google.com/github/zhangshi0512/Leetcode/blob/main/Jovian_Lessons_Linked_List.ipynb\" target=\"_parent\"><img src=\"https://colab.research.google.com/assets/colab-badge.svg\" alt=\"Open In Colab\"/></a>"
      ]
    },
    {
      "cell_type": "markdown",
      "source": [
        "## Linked List\n",
        "\n",
        "A linked list is a _data structure_ used for storing a sequence of elements. It's data with some structure (the sequence).\n",
        "\n",
        "![](https://cdn.programiz.com/sites/tutorial2program/files/linked-list-concept_0.png)\n",
        "\n",
        "We'll implement linked lists which support the following operations:\n",
        "\n",
        "- Create a list with given elements\n",
        "- Display the elements in a list\n",
        "- Find the number of elements in a list\n",
        "- Retrieve the element at a given position\n",
        "- Add or remove element(s)\n",
        "- (can you think of any more?)"
      ],
      "metadata": {
        "id": "NJdGMMRDXTdW"
      }
    },
    {
      "cell_type": "code",
      "execution_count": null,
      "metadata": {
        "id": "i-JRqaOoXNU0"
      },
      "outputs": [],
      "source": [
        "class Node():\n",
        "    def __init__(self, a_number):\n",
        "        self.data = a_number\n",
        "        self.next = None"
      ]
    },
    {
      "cell_type": "code",
      "source": [
        "class LinkedList():\n",
        "    def __init__(self):\n",
        "        self.head = None\n",
        "        \n",
        "    def append(self, value):\n",
        "        if self.head is None:\n",
        "            self.head = Node(value)\n",
        "        else:\n",
        "            current_node = self.head\n",
        "            while current_node.next is not None:\n",
        "                current_node = current_node.next\n",
        "            current_node.next = Node(value)\n",
        "            \n",
        "    def show_elements(self):\n",
        "        current = self.head\n",
        "        while current is not None:\n",
        "            print(current.data)\n",
        "            current = current.next\n",
        "            \n",
        "    def length(self):\n",
        "        result = 0\n",
        "        current = self.head\n",
        "        while current is not None:\n",
        "            result += 1\n",
        "            current = current.next\n",
        "        return result\n",
        "            \n",
        "    def get_element(self, position):\n",
        "        i = 0\n",
        "        current = self.head\n",
        "        while current is not None:\n",
        "            if i == position:\n",
        "                return current.data\n",
        "            current = current.next\n",
        "            i += 1\n",
        "        return None"
      ],
      "metadata": {
        "id": "YqJvOjDOX1Oz"
      },
      "execution_count": null,
      "outputs": []
    },
    {
      "cell_type": "markdown",
      "source": [
        "Given a list of size `N`, the the number of statements executed for each of the steps:\n",
        "\n",
        "- `append`: N steps\n",
        "- `length`: N steps\n",
        "- `get_element`: N steps\n",
        "- `show_element`: N steps"
      ],
      "metadata": {
        "id": "PE8lF1nRYZI8"
      }
    },
    {
      "cell_type": "markdown",
      "source": [
        "## Reversing a Linked List - Solution\n",
        "\n",
        "Here's a simple program to reverse a linked list."
      ],
      "metadata": {
        "id": "m2o-vOSoYdfk"
      }
    },
    {
      "cell_type": "code",
      "source": [
        "def reverse(l):\n",
        "    if l.head is None:\n",
        "        return\n",
        "    \n",
        "    current_node = l.head\n",
        "    prev_node = None\n",
        "    \n",
        "    while current_node is not None:\n",
        "        # Track the next node\n",
        "        next_node = current_node.next\n",
        "        \n",
        "        # Modify the current node\n",
        "        current_node.next = prev_node\n",
        "        \n",
        "        # Update prev and current\n",
        "        prev_node = current_node\n",
        "        current_node = next_node\n",
        "        \n",
        "    l.head = prev_node"
      ],
      "metadata": {
        "id": "17pQNmwKYhwk"
      },
      "execution_count": null,
      "outputs": []
    }
  ]
}