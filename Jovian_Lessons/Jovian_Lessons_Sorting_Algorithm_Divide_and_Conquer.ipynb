{
  "cells": [
    {
      "cell_type": "markdown",
      "metadata": {
        "colab_type": "text",
        "id": "view-in-github"
      },
      "source": [
        "<a href=\"https://colab.research.google.com/github/zhangshi0512/Leetcode/blob/main/Jovian_Lessons_Sorting_Algorithm_Divide_and_Conquer.ipynb\" target=\"_parent\"><img src=\"https://colab.research.google.com/assets/colab-badge.svg\" alt=\"Open In Colab\"/></a>"
      ]
    },
    {
      "cell_type": "markdown",
      "metadata": {
        "id": "teYQlC_DEjIV"
      },
      "source": [
        "[Lesson 3 - Sorting Algorithms and Divide & Conquer](https://jovian.com/learn/data-structures-and-algorithms-in-python/lesson/lesson-3-sorting-algorithms-and-divide-and-conquer)"
      ]
    },
    {
      "cell_type": "markdown",
      "metadata": {
        "id": "hKRipvyTT0ng"
      },
      "source": [
        "## Problem \n",
        "\n",
        "\n",
        "In this notebook, we'll focus on solving the following problem:\n",
        "\n",
        "> **QUESTION 1**: You're working on a new feature on Jovian called \"Top Notebooks of the Week\". Write a function to sort a list of notebooks in decreasing order of likes. Keep in mind that up to millions of notebooks  can be created every week, so your function needs to be as efficient as possible.\n",
        "\n",
        "\n",
        "The problem of sorting a list of objects comes up over and over in computer science and software development, and it's important to understand common approaches for sorting, and the trade-offs they offer. Before we solve the above problem, we'll solve a simplified version of the problem:\n",
        "\n",
        "> **QUESTION 2**: Write a program to sort a list of numbers.\n",
        "\n",
        "\n",
        "\"Sorting\" usually refers to \"sorting in ascending order\", unless specified otherwise."
      ]
    },
    {
      "cell_type": "markdown",
      "metadata": {
        "id": "CW6hJm6NT828"
      },
      "source": [
        "# List of numbers in random order\n",
        "test0 = {\n",
        "    'input': {\n",
        "        'nums': [4, 2, 6, 3, 4, 6, 2, 1]\n",
        "    },\n",
        "    'output': [1, 2, 2, 3, 4, 4, 6, 6]\n",
        "}"
      ]
    },
    {
      "cell_type": "markdown",
      "metadata": {
        "id": "PIG_WqE9UBRs"
      },
      "source": [
        "# List of numbers in random order\n",
        "test1 = {\n",
        "    'input': {\n",
        "        'nums': [5, 2, 6, 1, 23, 7, -12, 12, -243, 0]\n",
        "    },\n",
        "    'output': [-243, -12, 0, 1, 2, 5, 6, 7, 12, 23]\n",
        "}"
      ]
    },
    {
      "cell_type": "code",
      "execution_count": null,
      "metadata": {
        "id": "PXK3fccOUW0s"
      },
      "outputs": [],
      "source": [
        "import random\n",
        "\n",
        "in_list = list(range(10000))\n",
        "out_list = list(range(10000))\n",
        "random.shuffle(in_list)\n",
        "\n",
        "test8 = {\n",
        "    'input': {\n",
        "        'nums': in_list\n",
        "    },\n",
        "    'output': out_list\n",
        "}"
      ]
    },
    {
      "cell_type": "markdown",
      "metadata": {
        "id": "8_pXajXSUb6E"
      },
      "source": [
        "## 3. Come up with a correct solution. State it in plain English.\n",
        "\n",
        "It's easy to come up with a correct solution. Here's one: \n",
        "\n",
        "1. Iterate over the list of numbers, starting from the left\n",
        "2. Compare each number with the number that follows it\n",
        "3. If the number is greater than the one that follows it, swap the two elements\n",
        "4. Repeat steps 1 to 3 till the list is sorted.\n",
        "\n",
        "We need to repeat steps 1 to 3 at most `n-1` times to ensure that the array is sorted. Can you explain why? Hint: After one iteration, the largest number in the list.\n",
        "\n",
        "This method is called **bubble sort**, as it causes smaller elements to *bubble* to the top and larger to *sink* to the bottom. Here's a visual representation of the process:\n",
        "\n",
        "![](https://upload.wikimedia.org/wikipedia/commons/c/c8/Bubble-sort-example-300px.gif)\n"
      ]
    },
    {
      "cell_type": "code",
      "execution_count": 4,
      "metadata": {
        "colab": {
          "base_uri": "https://localhost:8080/"
        },
        "id": "xOm85AalCnw7",
        "outputId": "d2146850-c202-4505-8878-0983a2d2304c"
      },
      "outputs": [
        {
          "name": "stdout",
          "output_type": "stream",
          "text": [
            "[1, 2, 2, 3, 4, 4, 6, 6]\n",
            "[-243, -12, 0, 1, 2, 5, 6, 7, 12, 23]\n"
          ]
        }
      ],
      "source": [
        "def bubble_sort(nums):\n",
        "    # Create a copy of the list, to avoid changing it\n",
        "    nums = list(nums)\n",
        "    \n",
        "    # 4. Repeat the process n-1 times\n",
        "    for _ in range(len(nums) - 1):\n",
        "        \n",
        "        # 1. Iterate over the array (except last element)\n",
        "        for i in range(len(nums) - 1):\n",
        "            \n",
        "            # 2. Compare the number with  \n",
        "            if nums[i] > nums[i+1]:\n",
        "                \n",
        "                # 3. Swap the two elements\n",
        "                nums[i], nums[i+1] = nums[i+1], nums[i]\n",
        "    \n",
        "    # Return the sorted list\n",
        "    return nums\n",
        "\n",
        "nums1 = [4, 2, 6, 3, 4, 6, 2, 1]\n",
        "nums2 = [5, 2, 6, 1, 23, 7, -12, 12, -243, 0]\n",
        "print(bubble_sort(nums1))\n",
        "print(bubble_sort(nums2))"
      ]
    },
    {
      "cell_type": "markdown",
      "metadata": {
        "id": "OW8RsmkBEXA7"
      },
      "source": [
        "## 5. Analyze the algorithm's complexity and identify inefficiencies\n",
        "\n",
        "The core operations in bubble sort are \"compare\" and \"swap\". To analyze the time complexity, we can simply count the total number of comparisons being made, since the total number of swaps will be less than or equal to the total number of comparisons (can you see why?).\n",
        "\n",
        "```\n",
        "for _ in range(len(nums) - 1):\n",
        "    for i in range(len(nums) - 1):\n",
        "        if nums[i] > nums[i+1]:\n",
        "            nums[i], nums[i+1] = nums[i+1], nums[i]\n",
        "```\n",
        "\n",
        "There are two loops, each of length `n-1`, where `n` is the number of elements in `nums`. So the total number of comparisons is $(n-1)*(n-1)$ i.e. $(n-1)^2$ i.e. $n^2 - 2n + 1$. \n",
        "\n",
        "Expressing this in the Big O notation, we can conclude that the time complexity of bubble sort is $O(n^2)$ (also known as quadratic complexity).\n",
        "\n",
        "**Exercise:** Verify that the bubble sort requires $O(1)$ additional space.\n",
        "\n",
        "The space complexity of bubble sort is $O(n)$, even thought it requires only constant/zero additional space, because the space required to store the inputs is also considered while calculating space complexity.\n",
        "\n",
        "As we saw from the last test, a list of 10,000 numbers takes about 12 seconds to be sorted using bubble sort. A list of ten times the size will 100 times longer i.e. about 20 minutes to be sorted, which is quite inefficient. A list of a million elements would take close to 2 days to be sorted.\n",
        "\n",
        "\n",
        "The inefficiency in bubble sort comes from the fact that we're shifting elements by at most one position at a time.\n",
        "\n",
        "![](https://upload.wikimedia.org/wikipedia/commons/c/c8/Bubble-sort-example-300px.gif)"
      ]
    },
    {
      "cell_type": "markdown",
      "metadata": {
        "id": "l9mBrE3HEf8q"
      },
      "source": [
        "### Insertion Sort\n",
        "\n",
        "Before we look at explore more efficient sorting techniques, here's another simple sorting technique called insertion sort, where we keep the initial portion of the array sorted and insert the remaining elements one by one at the right position."
      ]
    },
    {
      "cell_type": "code",
      "execution_count": 2,
      "metadata": {
        "colab": {
          "base_uri": "https://localhost:8080/"
        },
        "id": "ok4sa1Y6E526",
        "outputId": "9a563eed-b0e6-494e-a889-c56978a09c47"
      },
      "outputs": [
        {
          "name": "stdout",
          "output_type": "stream",
          "text": [
            "[1, 2, 2, 3, 4, 4, 6, 6]\n",
            "[-243, -12, 0, 1, 2, 5, 6, 7, 12, 23]\n"
          ]
        }
      ],
      "source": [
        "def insertion_sort(nums):\n",
        "    nums = list(nums)\n",
        "    for i in range(len(nums)):\n",
        "        cur = nums.pop(i)\n",
        "        j = i-1\n",
        "        while j >=0 and nums[j] > cur:\n",
        "            j -= 1\n",
        "        nums.insert(j+1, cur)\n",
        "    return nums    \n",
        "\n",
        "nums1 = [4, 2, 6, 3, 4, 6, 2, 1]\n",
        "nums2 = [5, 2, 6, 1, 23, 7, -12, 12, -243, 0]\n",
        "print(insertion_sort(nums1))\n",
        "print(insertion_sort(nums2))        "
      ]
    },
    {
      "cell_type": "markdown",
      "metadata": {
        "id": "UeWiLSc1FSGj"
      },
      "source": [
        "## 6. Apply the right technique to overcome the inefficiency. Repeat Steps 3 to 6.\n",
        "\n",
        "\n",
        "To performing sorting more efficiently, we'll apply a strategy called **Divide and Conquer**, which has the following general steps:\n",
        "\n",
        "1. Divide the inputs into two roughly equal parts.\n",
        "2. Recursively solve the problem individually for each of the two parts.\n",
        "3. Combine the results to solve the problem for the original inputs.\n",
        "4. Include terminating conditions for small or indivisible inputs.\n",
        "\n",
        "Here's a visual representation of the strategy:\n",
        "\n",
        "![](https://www.educative.io/api/edpresso/shot/5327356208087040/image/6475288173084672)\n",
        "\n",
        "### Merge Sort\n",
        "\n",
        "Following a visual representation of the divide and conquer applied for sorting numbers. This algorithm is known as merge sort:\n",
        "\n",
        "\n",
        "<img src=\"https://upload.wikimedia.org/wikipedia/commons/thumb/e/e6/Merge_sort_algorithm_diagram.svg/2560px-Merge_sort_algorithm_diagram.svg.png\" width=\"480\">\n"
      ]
    },
    {
      "cell_type": "markdown",
      "metadata": {
        "id": "nTVVIj9RG0_T"
      },
      "source": [
        "## 7. Come up with a correct solution. State it in Plain English.\n",
        "\n",
        "Here's a step-by-step description for merge sort:\n",
        "\n",
        "1. If the input list is empty or contains just one element, it is already sorted. Return it.\n",
        "2. If not, divide the list of numbers into two roughly equal parts.\n",
        "3. Sort each part recursively using the merge sort algorithm. You'll get back two sorted lists.\n",
        "4. Merge the two sorted lists to get a single sorted list\n",
        "\n",
        "Can you guess how the \"merge\" operation step 4 works? Hint: Watch this animation: https://youtu.be/GW0USDwhBgo?t=28\n",
        "\n",
        "> **QUESTION 3**: Write a function to merge two sorted arrays.\n",
        "\n",
        "\n",
        "Try to explain how the merge operation works in your own words below:\n",
        "\n",
        "1. ???\n",
        "2. ???\n",
        "3. ???\n",
        "4. ???"
      ]
    },
    {
      "cell_type": "code",
      "execution_count": null,
      "metadata": {
        "id": "CNJVQZVTFYjJ"
      },
      "outputs": [],
      "source": [
        "def merge_sort(nums):\n",
        "    # Terminating condition (list of 0 or 1 elements)\n",
        "    if len(nums) <= 1:\n",
        "        return nums\n",
        "    \n",
        "    # Get the midpoint\n",
        "    mid = len(nums) // 2\n",
        "    \n",
        "    # Split the list into two halves\n",
        "    left = nums[:mid]\n",
        "    right = nums[mid:]\n",
        "    \n",
        "    # Solve the problem for each half recursively\n",
        "    left_sorted, right_sorted = merge_sort(left), merge_sort(right)\n",
        "    \n",
        "    # Combine the results of the two halves\n",
        "    sorted_nums =  merge(left_sorted, right_sorted)\n",
        "    \n",
        "    return sorted_nums"
      ]
    },
    {
      "cell_type": "markdown",
      "metadata": {
        "id": "yWmDk3EfFfES"
      },
      "source": [
        "Two merge two sorted arrays, we can repeatedly compare the two least elements of each array, and copy over the smaller one into a new array.\n",
        "\n",
        "Here's a visual representation of the merge operation:\n",
        "\n",
        "<img src=\"https://i.imgur.com/XeEpa0U.png\" width=\"480\">\n",
        "\n"
      ]
    },
    {
      "cell_type": "code",
      "execution_count": 3,
      "metadata": {
        "colab": {
          "base_uri": "https://localhost:8080/"
        },
        "id": "_Wis0szpFhwi",
        "outputId": "97ea63b1-7b0b-415f-d96e-36990ea3d29a"
      },
      "outputs": [
        {
          "name": "stdout",
          "output_type": "stream",
          "text": [
            "[-1, 0, 1, 2, 3, 4, 7, 8, 9, 11, 12]\n"
          ]
        }
      ],
      "source": [
        "def merge(nums1, nums2):    \n",
        "    # List to store the results \n",
        "    merged = []\n",
        "    \n",
        "    # Indices for iteration\n",
        "    i, j = 0, 0\n",
        "    \n",
        "    # Loop over the two lists\n",
        "    while i < len(nums1) and j < len(nums2):        \n",
        "        \n",
        "        # Include the smaller element in the result and move to next element\n",
        "        if nums1[i] <= nums2[j]:\n",
        "            merged.append(nums1[i])\n",
        "            i += 1 \n",
        "        else:\n",
        "            merged.append(nums2[j])\n",
        "            j += 1\n",
        "    \n",
        "    # Get the remaining parts\n",
        "    nums1_tail = nums1[i:]\n",
        "    nums2_tail = nums2[j:]\n",
        "    \n",
        "    # Return the final merged array\n",
        "    return merged + nums1_tail + nums2_tail\n",
        "\n",
        "print(merge([1, 4, 7, 9, 11], [-1, 0, 2, 3, 8, 12]))"
      ]
    },
    {
      "cell_type": "markdown",
      "metadata": {
        "id": "UmIpH6QjLBuk"
      },
      "source": [
        "## 9. Analyze the algorithm's complexity and identify inefficiencies\n",
        "\n",
        "Analyzing the complexity of recursive algorithms can be tricky. It helps to track and follow the chain of recursive calls. We'll add some print statements to our `merge_sort` and `merge_functions` to display the _tree_ of recursive function calls."
      ]
    },
    {
      "cell_type": "code",
      "execution_count": null,
      "metadata": {
        "id": "HLi4gi1gLDv6"
      },
      "outputs": [],
      "source": [
        "def merge(nums1, nums2, depth=0):\n",
        "    print('  '*depth, 'merge:', nums1, nums2)\n",
        "    i, j, merged = 0, 0, []\n",
        "    while i < len(nums1) and j < len(nums2):\n",
        "        if nums1[i] <= nums2[j]:\n",
        "            merged.append(nums1[i])\n",
        "            i += 1\n",
        "        else:\n",
        "            merged.append(nums2[j])\n",
        "            j += 1\n",
        "    return merged + nums1[i:] + nums2[j:]\n",
        "        \n",
        "def merge_sort(nums, depth=0):\n",
        "    print('  '*depth, 'merge_sort:', nums)\n",
        "    if len(nums) < 2: \n",
        "        return nums\n",
        "    mid = len(nums) // 2\n",
        "    return merge(merge_sort(nums[:mid], depth+1), \n",
        "                 merge_sort(nums[mid:], depth+1), \n",
        "                 depth+1)\n",
        "    \n",
        "print(merge_sort([5, -12, 2, 6, 1, 23, 7, 7, -12]))"
      ]
    },
    {
      "cell_type": "markdown",
      "metadata": {
        "id": "PMw8URzRLORz"
      },
      "source": [
        "We can now see that each `merge_sort` call itself invokes `merge_sort` twice (but with an array half the size), and also invokes the `merge` function once to merge the two resulting arrays. The two calls to `merge_sort` themselves make two recursive calls followed by an invocation of `merge`. The division continues till we reach an list of size 1 or 0. Thus, the merge sort algorithm ultimately boils down to a series of `merge` operations performed on arrays of varying sizes. Inside the `merge` function we perform comparisons and add numbers to a new array.\n",
        "\n",
        "**Exercise:** Verify that time complexity of the merge operation is $O(n)$, where $n$ is the sum of the sizes of the two input lists. Hint: Count the number of comparisons.\n",
        "\n",
        "To find the overall complexity of `merge_sort`, we simply need to count how many times the `merge` function was invoked and the size of the input list for each invocation. Here's how all the subproblems can be visualized:\n",
        "\n",
        "\n",
        "![](https://i.imgur.com/j1IuS2t.png)\n",
        "\n",
        "Counting from the top and starting from 0, the $k^{th}$ level of the above tree involves $2^k$ invocations of `merge` with sublists of size roughly $n / 2^k$, where $n$ is the size of the original input list. Therefore the total number of comparisons at each level of the tree is $2^k * n/2^k = n$.\n",
        "\n",
        "Thus, if the height of the tree is $h$, the total number of comparisons is $n*h$. Since there are $n$ sublists of size 1 at the lowest level, it follows that $2^{(h-1)} = n$ i.e. $h = \\log n + 1$. Thus the time complexity of the merge sort algorithms is $O(n \\log n)$.\n",
        "\n",
        "As we already saw, it took just 50 ms to sort an array of 10,000 elements. Even an array of 1 million elements will take only a few seconds to be sorted.\n",
        "\n",
        "\n",
        "### Space Complexity\n",
        "\n",
        "\n",
        "\n",
        "\n",
        "To find the space complexity of merge sort, it helps to recall that a new list with equal to the sum of the sizes of the two lists is created in each invocation of `merge`. \n",
        "\n",
        "```\n",
        "i, j, merged = 0, 0, []\n",
        "while i < len(nums1) and j < len(nums2):\n",
        "    if nums1[i] <= nums2[j]:\n",
        "        merged.append(nums1[i])\n",
        "        i += 1\n",
        "    else:\n",
        "        merged.append(nums2[j])\n",
        "        j += 1\n",
        "```\n",
        "\n",
        "\n",
        "At first glance, it may seem that $O(n)$ space is required for each level of the tree, so the space complexity of merge sort is $O(n \\log n)$.\n",
        "\n",
        "![](https://i.imgur.com/KTbibGC.png)\n",
        "\n",
        "However, since the original sublists can be discarded after the `merge` operation, the additional space can be freed or reused for future merge calls. Thus, merge sort requires $O(n)$ additional space i.e. the space complexity is $O(n)$.\n",
        "\n",
        "\n",
        "There are several extensions and variations and extensions of merge sort:\n",
        "\n",
        "* K-way merge sort: https://en.wikipedia.org/wiki/K-way_merge_algorithm\n",
        "* Counting inversions in an array: https://www.geeksforgeeks.org/counting-inversions/\n",
        "* Merge sort and insertion sort hybrids: https://en.wikipedia.org/wiki/Timsort"
      ]
    },
    {
      "cell_type": "markdown",
      "metadata": {
        "id": "JI7mKWtnLTKa"
      },
      "source": [
        "## 10. Apply the right technique to overcome the inefficiency. Repeat Steps 3 to 6.\n",
        "\n",
        "The fact that merge sort requires allocating additional space as large as the input itself makes it somewhat slow in practice because memory allocation is far more expensive than comparisons or swapping.\n",
        "\n",
        "### Quicksort\n",
        "\n",
        "To overcome the space inefficiencies of merge sort, we'll study another divide-and-conquer based sorting algorithm called **quicksort**, which works as follows:\n",
        "\n",
        "1. If the list is empty or has just one element, return it. It's already sorted.\n",
        "2. Pick a random element from the list. This element is called a _pivot_.\n",
        "3. Reorder the list so that all elements with values less than or equal to the pivot come before the pivot, while all elements with values greater than the pivot come after it. This operation is called _partitioning_.\n",
        "4. The pivot element divides the array into two parts which can be sorted independently by making a recursive call to quicksort.\n",
        "\n",
        "![](https://images.deepai.org/glossary-terms/a5228ea07c794b468efd1b7f758b9ead/Quicksort.png)\n",
        "\n",
        "The key observation here is that after the partition, the pivot element is at its right place in the sorted array, and the two parts of the array can be sorted independently in-place.\n",
        "\n",
        "Here's an implementation of quicksort, assuming we already have a helper function called `partitions` which picks a pivot, partitions the array in-place, and returns the position of the pivot element."
      ]
    },
    {
      "cell_type": "code",
      "execution_count": null,
      "metadata": {
        "id": "tGFKuo6cLXK0"
      },
      "outputs": [],
      "source": [
        "def quicksort(nums, start=0, end=None):\n",
        "    # print('quicksort', nums, start, end)\n",
        "    if end is None:\n",
        "        nums = list(nums)\n",
        "        end = len(nums) - 1\n",
        "    \n",
        "    if start < end:\n",
        "        pivot = partition(nums, start, end)\n",
        "        quicksort(nums, start, pivot-1)\n",
        "        quicksort(nums, pivot+1, end)\n",
        "\n",
        "    return nums"
      ]
    },
    {
      "cell_type": "markdown",
      "metadata": {
        "id": "WyhLpES2MkKs"
      },
      "source": [
        "Here's how the partition operation works([source](https://medium.com/basecs/pivoting-to-understand-quicksort-part-1-75178dfb9313)):\n",
        "\n",
        "<img src=\"https://i.imgur.com/Igk7Kr4.png\" width=\"420\">\n",
        "\n",
        "\n",
        "Here's an implementation of partition, which uses the last element of the list as a pivot:"
      ]
    },
    {
      "cell_type": "code",
      "execution_count": 4,
      "metadata": {
        "colab": {
          "base_uri": "https://localhost:8080/"
        },
        "id": "0mJzfQQSMqHk",
        "outputId": "767edf73-437a-42f9-fea5-cad3f25dd3db"
      },
      "outputs": [
        {
          "name": "stdout",
          "output_type": "stream",
          "text": [
            "[1, 0, 2, 3, 5, 11, 6] 3\n"
          ]
        }
      ],
      "source": [
        "def partition(nums, start=0, end=None):\n",
        "    # print('partition', nums, start, end)\n",
        "    if end is None:\n",
        "        end = len(nums) - 1\n",
        "    \n",
        "    # Initialize right and left pointers\n",
        "    l, r = start, end-1\n",
        "    \n",
        "    # Iterate while they're apart\n",
        "    while r > l:\n",
        "        # print('  ', nums, l, r)\n",
        "        # Increment left pointer if number is less or equal to pivot\n",
        "        if nums[l] <= nums[end]:\n",
        "            l += 1\n",
        "        \n",
        "        # Decrement right pointer if number is greater than pivot\n",
        "        elif nums[r] > nums[end]:\n",
        "            r -= 1\n",
        "        \n",
        "        # Two out-of-place elements found, swap them\n",
        "        else:\n",
        "            nums[l], nums[r] = nums[r], nums[l]\n",
        "    # print('  ', nums, l, r)\n",
        "    # Place the pivot between the two parts\n",
        "    if nums[l] > nums[end]:\n",
        "        nums[l], nums[end] = nums[end], nums[l]\n",
        "        return l\n",
        "    else:\n",
        "        return end\n",
        "\n",
        "l1 = [1, 5, 6, 2, 0, 11, 3]\n",
        "pivot = partition(l1)\n",
        "print(l1, pivot)"
      ]
    },
    {
      "cell_type": "markdown",
      "metadata": {
        "id": "i4qhb5IXPvoz"
      },
      "source": [
        "### Time Complexity of Quicksort\n",
        "\n",
        "If we assume that \n",
        "\n",
        "\n",
        "Best case partitioning:\n",
        "\n",
        "<img src=\"https://i.imgur.com/DgvYvnG.png\" width=\"480\">\n",
        "\n",
        "\n",
        "If we partition the list into two nearly equal parts, then the complexity analysis is similar to that of merge sort and quicksort has the complexity $O(n \\log n)$. This is called the average-case complexity.\n",
        "\n",
        "\n",
        "Worst case partitioning:\n",
        "\n",
        "\n",
        "<img src=\"https://cdn.kastatic.org/ka-perseus-images/7da2ac32779bef669a6f05decb62f219a9132158.png\" width=\"480\">\n",
        "\n",
        "In this case, the partition is called `n` times with lists of sizes `n`, `n-1`... so that total comparisions are $n + (n-1) + (n-2) + ... + 2 + 1 = n * (n-1) / 2$. So the worst-case complexity of quicksort is $O(n^2)$.\n",
        "\n",
        "**Exercise:** Verify that quicksort requires $O(1)$ additional space.\n",
        "\n",
        "Despite the quadratic worst case time complexity Quicksort is preferred in many situations because its running time is closer to $O(n \\log n)$ in practice, especially with a good strategy for picking a pivot. Some these are:\n",
        "\n",
        "- [Picking a random pivot](https://cs.stackexchange.com/questions/7582/what-is-the-advantage-of-randomized-quicksort)\n",
        "- [Picking median of medians](https://en.wikipedia.org/wiki/Median_of_medians)\n",
        "\n",
        "\n",
        "Here are some other problems you can solve using the partitioning strategy of Quicksort: https://www.techiedelight.com/problems-solved-using-partitioning-logic-quicksort/\n",
        "\n",
        "\n"
      ]
    },
    {
      "cell_type": "markdown",
      "metadata": {
        "id": "8axF4aamSdQs"
      },
      "source": [
        "## Custom Comparison Functions\n",
        "\n",
        "Let's return to our original problem statement now.\n",
        "\n",
        "> **QUESTION 1**: You're working on a new feature on Jovian called \"Top Notebooks of the Week\". Write a function to sort a list of notebooks in decreasing order of likes. Keep in mind that up to millions of notebooks  can be created every week, so your function needs to be as efficient as possible.\n",
        "\n",
        "First, we need to sort objects, not just numbers. Also, we want to sort them in the descending order of likes. To achieve this, all we need is a custom comparison function to compare two notebooks.\n",
        "\n",
        "Let's create a class that captures basic information about notebooks."
      ]
    },
    {
      "cell_type": "code",
      "execution_count": 5,
      "metadata": {
        "colab": {
          "base_uri": "https://localhost:8080/"
        },
        "id": "h_Rqv4M6ShSk",
        "outputId": "5b0b9fb1-cf38-4db2-875c-232b9e666b36"
      },
      "outputs": [
        {
          "data": {
            "text/plain": [
              "[Notebook <\"hemanth/anime-gans\", 80 likes>,\n",
              " Notebook <\"biraj/cifar10-cnn\", 2 likes>,\n",
              " Notebook <\"tanya/cifar10-resnet\", 29 likes>,\n",
              " Notebook <\"sonaksh/feedforward-nn\", 94 likes>,\n",
              " Notebook <\"siddhant/linear-regression\", 532 likes>,\n",
              " Notebook <\"vikas/logistic-regression\", 31 likes>,\n",
              " Notebook <\"aakashns/python-functions\", 74 likes>,\n",
              " Notebook <\"vishal/python-fundamentals\", 136 likes>,\n",
              " Notebook <\"siddhant/python-numpy\", 92 likes>,\n",
              " Notebook <\"aakashns/pytorch-basics\", 373 likes>]"
            ]
          },
          "execution_count": 5,
          "metadata": {},
          "output_type": "execute_result"
        }
      ],
      "source": [
        "class Notebook:\n",
        "    def __init__(self, title, username, likes):\n",
        "        self.title, self.username, self.likes = title, username, likes\n",
        "        \n",
        "    def __repr__(self):\n",
        "        return 'Notebook <\"{}/{}\", {} likes>'.format(self.username, self.title, self.likes)\n",
        "\n",
        "nb0 = Notebook('pytorch-basics', 'aakashns', 373)\n",
        "nb1 = Notebook('linear-regression', 'siddhant', 532)\n",
        "nb2 = Notebook('logistic-regression', 'vikas', 31)\n",
        "nb3 = Notebook('feedforward-nn', 'sonaksh', 94)\n",
        "nb4 = Notebook('cifar10-cnn', 'biraj', 2)\n",
        "nb5 = Notebook('cifar10-resnet', 'tanya', 29)\n",
        "nb6 = Notebook('anime-gans', 'hemanth', 80)\n",
        "nb7 = Notebook('python-fundamentals', 'vishal', 136)\n",
        "nb8 = Notebook('python-functions', 'aakashns', 74)\n",
        "nb9 = Notebook('python-numpy', 'siddhant', 92)\n",
        "\n",
        "notebooks = [nb0, nb1, nb2, nb3, nb4, nb5,nb6, nb7, nb8, nb9]\n",
        "\n",
        "def compare_likes(nb1, nb2):\n",
        "    if nb1.likes > nb2.likes:\n",
        "        return 'lesser'\n",
        "    elif nb1.likes == nb2.likes:\n",
        "        return 'equal'\n",
        "    elif nb1.likes < nb2.likes:\n",
        "        return 'greater'\n",
        "\n",
        "def default_compare(x, y):\n",
        "    if x < y:\n",
        "        return 'less'\n",
        "    elif x == y:\n",
        "        return 'equal'\n",
        "    else:\n",
        "        return 'greater'\n",
        "\n",
        "def merge_sort(objs, compare=default_compare):\n",
        "    if len(objs) < 2:\n",
        "        return objs\n",
        "    mid = len(objs) // 2\n",
        "    return merge(merge_sort(objs[:mid], compare), \n",
        "                 merge_sort(objs[mid:], compare), \n",
        "                 compare)\n",
        "\n",
        "def merge(left, right, compare):\n",
        "    i, j, merged = 0, 0, []\n",
        "    while i < len(left) and j < len(right):\n",
        "        result = compare(left[i], right[j])\n",
        "        if result == 'lesser' or result == 'equal':\n",
        "            merged.append(left[i])\n",
        "            i += 1\n",
        "        else:\n",
        "            merged.append(right[j])\n",
        "            j += 1\n",
        "    return merged + left[i:] + right[j:]\n",
        "\n",
        "sorted_notebooks = merge_sort(notebooks, compare_likes)\n",
        "\n",
        "def compare_titles(nb1, nb2):\n",
        "    if nb1.title < nb2.title:\n",
        "        return 'lesser'\n",
        "    elif nb1.title == nb2.title:\n",
        "        return 'equal'\n",
        "    elif nb1.title > nb2.title:\n",
        "        return 'greater'\n",
        "\n",
        "merge_sort(notebooks, compare_titles)"
      ]
    },
    {
      "cell_type": "markdown",
      "metadata": {
        "id": "pokEiXmFTH_1"
      },
      "source": [
        "## Summary and Exercises\n",
        "\n",
        "We've covered the following sorting algorithms in this tutorial:\n",
        "\n",
        "1. Bubble sort\n",
        "2. Insertion sort\n",
        "3. Merge sort\n",
        "4. Quick sort\n",
        "\n",
        "There are several other sorting algorithms, and most languages provide library functions for sorting that use a hybrid approach depending on the size and type of element in the list/array.\n",
        "\n",
        "\n",
        "Try out some problems on sorting and divide-n-conquer here:\n",
        "\n",
        "* https://leetcode.com/tag/sort/\n",
        "* https://www.techiedelight.com/sorting-interview-questions/\n",
        "* [HackerRank](https://www.hackerrank.com/domains/algorithms?filters%5Bsubdomains%5D%5B%5D=arrays-and-sorting)\n",
        "* https://leetcode.com/tag/divide-and-conquer/\n",
        "* https://www.geeksforgeeks.org/divide-and-conquer/\n",
        "\n",
        "Use this problem solving template: https://jovian.ai/aakashns/python-problem-solving-template"
      ]
    }
  ],
  "metadata": {
    "colab": {
      "authorship_tag": "ABX9TyMwsLosHXFGqE9ImYdhuRnH",
      "include_colab_link": true,
      "provenance": []
    },
    "kernelspec": {
      "display_name": "Python 3",
      "name": "python3"
    },
    "language_info": {
      "codemirror_mode": {
        "name": "ipython",
        "version": 3
      },
      "file_extension": ".py",
      "mimetype": "text/x-python",
      "name": "python",
      "nbconvert_exporter": "python",
      "pygments_lexer": "ipython3",
      "version": "3.11.1"
    }
  },
  "nbformat": 4,
  "nbformat_minor": 0
}
